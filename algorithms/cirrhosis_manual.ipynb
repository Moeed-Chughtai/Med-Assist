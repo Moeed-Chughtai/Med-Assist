{
 "cells": [
  {
   "cell_type": "code",
   "execution_count": 21,
   "metadata": {},
   "outputs": [],
   "source": [
    "import pandas as pd\n",
    "import numpy as np\n",
    "from sklearn.model_selection import train_test_split\n",
    "from sklearn.preprocessing import StandardScaler, OneHotEncoder\n",
    "from sklearn.metrics import classification_report, confusion_matrix, accuracy_score\n",
    "from sklearn.compose import ColumnTransformer\n",
    "from sklearn.pipeline import Pipeline\n",
    "\n",
    "from logisitic_regression import LogisticRegression\n",
    "from neural_network import NeuralNetwork\n",
    "from random_forest_classifier import RandomForestClassifier\n",
    "from kmeans import KMeans"
   ]
  },
  {
   "cell_type": "code",
   "execution_count": 22,
   "metadata": {},
   "outputs": [],
   "source": [
    "file = '../datasets/Cirrhosis.csv'\n",
    "data = pd.read_csv(file)\n",
    "\n",
    "data.dropna(inplace=True)\n",
    "data.drop(columns=['ID', 'N_Days'], inplace=True)\n",
    "data['Age'] = data['Age'] / 365.25  # Convert age from days to years\n",
    "\n",
    "X = data.drop('Stage', axis=1)\n",
    "y = data['Stage']\n",
    "\n",
    "categorical_cols = X.select_dtypes(include=['object', 'category']).columns.tolist()\n",
    "numerical_cols = X.select_dtypes(include=['number']).columns.tolist()\n",
    "\n",
    "# Preprocessing for numerical data: scaling\n",
    "numerical_transformer = Pipeline(steps=[\n",
    "    ('scaler', StandardScaler())\n",
    "])\n",
    "# Preprocessing for categorical data: one-hot encoding\n",
    "categorical_transformer = OneHotEncoder(handle_unknown='ignore')\n",
    "\n",
    "# Bundle preprocessing for numerical and categorical data\n",
    "preprocessor = ColumnTransformer(\n",
    "    transformers=[\n",
    "        ('num', numerical_transformer, numerical_cols),\n",
    "        ('cat', categorical_transformer, categorical_cols)\n",
    "    ])\n",
    "\n",
    "# Preprocess data\n",
    "X_processed = preprocessor.fit_transform(X)"
   ]
  },
  {
   "cell_type": "code",
   "execution_count": 23,
   "metadata": {},
   "outputs": [],
   "source": [
    "# Split the data into training, validation, and test sets (70%, 15%, 15%)\n",
    "X_train, X_temp, y_train, y_temp = train_test_split(X_processed, y, test_size=0.3, random_state=42)\n",
    "X_val, X_test, y_val, y_test = train_test_split(X_temp, y_temp, test_size=0.5, random_state=42)"
   ]
  },
  {
   "cell_type": "code",
   "execution_count": 24,
   "metadata": {},
   "outputs": [
    {
     "name": "stdout",
     "output_type": "stream",
     "text": [
      "Validation Set Performance:\n",
      "[[ 0  1  0  0]\n",
      " [ 0  1  6  0]\n",
      " [ 0  3 14  0]\n",
      " [ 0  2 14  0]]\n",
      "              precision    recall  f1-score   support\n",
      "\n",
      "         1.0       0.00      0.00      0.00         1\n",
      "         2.0       0.14      0.14      0.14         7\n",
      "         3.0       0.41      0.82      0.55        17\n",
      "         4.0       0.00      0.00      0.00        16\n",
      "\n",
      "    accuracy                           0.37        41\n",
      "   macro avg       0.14      0.24      0.17        41\n",
      "weighted avg       0.20      0.37      0.25        41\n",
      "\n",
      "Validation Accuracy: 0.36585365853658536\n",
      "\n",
      "Test Set Performance:\n",
      "[[ 0  0  2  0]\n",
      " [ 0  2  9  0]\n",
      " [ 0  3 16  0]\n",
      " [ 0  0 10  0]]\n",
      "              precision    recall  f1-score   support\n",
      "\n",
      "         1.0       0.00      0.00      0.00         2\n",
      "         2.0       0.40      0.18      0.25        11\n",
      "         3.0       0.43      0.84      0.57        19\n",
      "         4.0       0.00      0.00      0.00        10\n",
      "\n",
      "    accuracy                           0.43        42\n",
      "   macro avg       0.21      0.26      0.21        42\n",
      "weighted avg       0.30      0.43      0.32        42\n",
      "\n",
      "Test Accuracy: 0.42857142857142855\n"
     ]
    },
    {
     "name": "stderr",
     "output_type": "stream",
     "text": [
      "c:\\Users\\moeed\\AppData\\Local\\Programs\\Python\\Python310\\lib\\site-packages\\sklearn\\metrics\\_classification.py:1531: UndefinedMetricWarning: Precision is ill-defined and being set to 0.0 in labels with no predicted samples. Use `zero_division` parameter to control this behavior.\n",
      "  _warn_prf(average, modifier, f\"{metric.capitalize()} is\", len(result))\n",
      "c:\\Users\\moeed\\AppData\\Local\\Programs\\Python\\Python310\\lib\\site-packages\\sklearn\\metrics\\_classification.py:1531: UndefinedMetricWarning: Precision is ill-defined and being set to 0.0 in labels with no predicted samples. Use `zero_division` parameter to control this behavior.\n",
      "  _warn_prf(average, modifier, f\"{metric.capitalize()} is\", len(result))\n",
      "c:\\Users\\moeed\\AppData\\Local\\Programs\\Python\\Python310\\lib\\site-packages\\sklearn\\metrics\\_classification.py:1531: UndefinedMetricWarning: Precision is ill-defined and being set to 0.0 in labels with no predicted samples. Use `zero_division` parameter to control this behavior.\n",
      "  _warn_prf(average, modifier, f\"{metric.capitalize()} is\", len(result))\n",
      "c:\\Users\\moeed\\AppData\\Local\\Programs\\Python\\Python310\\lib\\site-packages\\sklearn\\metrics\\_classification.py:1531: UndefinedMetricWarning: Precision is ill-defined and being set to 0.0 in labels with no predicted samples. Use `zero_division` parameter to control this behavior.\n",
      "  _warn_prf(average, modifier, f\"{metric.capitalize()} is\", len(result))\n",
      "c:\\Users\\moeed\\AppData\\Local\\Programs\\Python\\Python310\\lib\\site-packages\\sklearn\\metrics\\_classification.py:1531: UndefinedMetricWarning: Precision is ill-defined and being set to 0.0 in labels with no predicted samples. Use `zero_division` parameter to control this behavior.\n",
      "  _warn_prf(average, modifier, f\"{metric.capitalize()} is\", len(result))\n",
      "c:\\Users\\moeed\\AppData\\Local\\Programs\\Python\\Python310\\lib\\site-packages\\sklearn\\metrics\\_classification.py:1531: UndefinedMetricWarning: Precision is ill-defined and being set to 0.0 in labels with no predicted samples. Use `zero_division` parameter to control this behavior.\n",
      "  _warn_prf(average, modifier, f\"{metric.capitalize()} is\", len(result))\n"
     ]
    }
   ],
   "source": [
    "# Train the Logistic Regression model\n",
    "model = LogisticRegression(learning_rate=0.01, num_iterations=1000, C=1.0)\n",
    "model.fit(X_train, y_train, num_classes=len(np.unique(y)))\n",
    "\n",
    "y_val_pred = model.predict(X_val)\n",
    "y_test_pred = model.predict(X_test)\n",
    "\n",
    "print(\"Validation Set Performance:\")\n",
    "print(confusion_matrix(y_val, y_val_pred))\n",
    "print(classification_report(y_val, y_val_pred))\n",
    "print(\"Validation Accuracy:\", accuracy_score(y_val, y_val_pred))\n",
    "\n",
    "print(\"\\nTest Set Performance:\")\n",
    "print(confusion_matrix(y_test, y_test_pred))\n",
    "print(classification_report(y_test, y_test_pred))\n",
    "print(\"Test Accuracy:\", accuracy_score(y_test, y_test_pred))"
   ]
  },
  {
   "cell_type": "code",
   "execution_count": null,
   "metadata": {},
   "outputs": [],
   "source": [
    "# Initialize and train the KMeans model\n",
    "kmeans = KMeans(k=4, max_iters=100)\n",
    "kmeans.fit(X_train)\n",
    "\n",
    "# Predict on validation and test sets\n",
    "y_val_pred = kmeans.predict(X_val)\n",
    "y_test_pred = kmeans.predict(X_test)\n",
    "\n",
    "# Convert one-hot encoded labels back to original labels for evaluation\n",
    "y_val = np.argmax(y_val, axis=1)\n",
    "y_test = np.argmax(y_test, axis=1)\n",
    "\n",
    "# Evaluate KMeans performance\n",
    "print(\"KMeans Validation Set Performance:\")\n",
    "print(confusion_matrix(y_val, y_val_pred))\n",
    "print(classification_report(y_val, y_val_pred))\n",
    "print(\"Validation Accuracy:\", accuracy_score(y_val, y_val_pred))\n",
    "\n",
    "print(\"\\nKMeans Test Set Performance:\")\n",
    "print(confusion_matrix(y_test, y_test_pred))\n",
    "print(classification_report(y_test, y_test_pred))\n",
    "print(\"Test Accuracy:\", accuracy_score(y_test, y_test_pred))"
   ]
  },
  {
   "cell_type": "code",
   "execution_count": null,
   "metadata": {},
   "outputs": [],
   "source": [
    "# Train the RandomForestClassifier model\n",
    "rf = RandomForestClassifier(n_estimators=100, max_depth=None)\n",
    "y_train_labels = np.argmax(y_train, axis=1)  # Convert one-hot to single labels\n",
    "rf.fit(X_train, y_train_labels)\n",
    "\n",
    "y_val_pred_rf = rf.predict(X_val)\n",
    "y_test_pred_rf = rf.predict(X_test)\n",
    "\n",
    "print(\"\\nRandom Forest Validation Set Performance:\")\n",
    "print(confusion_matrix(y_val, y_val_pred_rf))\n",
    "print(classification_report(y_val, y_val_pred_rf))\n",
    "print(\"Validation Accuracy:\", accuracy_score(y_val, y_val_pred_rf))\n",
    "\n",
    "print(\"\\nRandom Forest Test Set Performance:\")\n",
    "print(confusion_matrix(y_test, y_test_pred_rf))\n",
    "print(classification_report(y_test, y_test_pred_rf))\n",
    "print(\"Test Accuracy:\", accuracy_score(y_test, y_test_pred_rf))"
   ]
  },
  {
   "cell_type": "code",
   "execution_count": null,
   "metadata": {},
   "outputs": [],
   "source": [
    "# Train the KMeans model\n",
    "kmeans = KMeans(k=4, max_iters=100)\n",
    "kmeans.fit(X_train)\n",
    "\n",
    "y_val_pred = kmeans.predict(X_val)\n",
    "y_test_pred = kmeans.predict(X_test)\n",
    "\n",
    "y_val = np.argmax(y_val, axis=1)\n",
    "y_test = np.argmax(y_test, axis=1)\n",
    "\n",
    "print(\"KMeans Validation Set Performance:\")\n",
    "print(confusion_matrix(y_val, y_val_pred))\n",
    "print(classification_report(y_val, y_val_pred))\n",
    "print(\"Validation Accuracy:\", accuracy_score(y_val, y_val_pred))\n",
    "\n",
    "print(\"\\nKMeans Test Set Performance:\")\n",
    "print(confusion_matrix(y_test, y_test_pred))\n",
    "print(classification_report(y_test, y_test_pred))\n",
    "print(\"Test Accuracy:\", accuracy_score(y_test, y_test_pred))"
   ]
  }
 ],
 "metadata": {
  "kernelspec": {
   "display_name": "Python 3",
   "language": "python",
   "name": "python3"
  },
  "language_info": {
   "codemirror_mode": {
    "name": "ipython",
    "version": 3
   },
   "file_extension": ".py",
   "mimetype": "text/x-python",
   "name": "python",
   "nbconvert_exporter": "python",
   "pygments_lexer": "ipython3",
   "version": "3.10.2"
  }
 },
 "nbformat": 4,
 "nbformat_minor": 2
}
