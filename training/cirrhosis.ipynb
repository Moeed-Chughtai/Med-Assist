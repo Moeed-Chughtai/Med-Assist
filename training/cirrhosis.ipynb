{
 "cells": [
  {
   "cell_type": "code",
   "execution_count": 2,
   "metadata": {},
   "outputs": [
    {
     "ename": "SyntaxError",
     "evalue": "invalid syntax (1805036053.py, line 8)",
     "output_type": "error",
     "traceback": [
      "\u001b[1;36m  Cell \u001b[1;32mIn[2], line 8\u001b[1;36m\u001b[0m\n\u001b[1;33m    from '../models/decision_tree.py' import DecisionTree\u001b[0m\n\u001b[1;37m         ^\u001b[0m\n\u001b[1;31mSyntaxError\u001b[0m\u001b[1;31m:\u001b[0m invalid syntax\n"
     ]
    }
   ],
   "source": [
    "import pandas as pd\n",
    "import numpy as np\n",
    "from sklearn.model_selection import train_test_split\n",
    "from sklearn.preprocessing import StandardScaler\n",
    "from sklearn.metrics import classification_report, confusion_matrix, accuracy_score\n",
    "import itertools\n"
   ]
  },
  {
   "cell_type": "code",
   "execution_count": null,
   "metadata": {},
   "outputs": [],
   "source": [
    "file = '../datasets/Cirrhosis.csv'\n",
    "data = pd.read_csv(file)\n",
    "\n",
    "data.dropna(inplace=True)\n",
    "data.drop(columns=['ID'], inplace=True)\n",
    "data['Age'] = data['Age'] / 365.25  # Convert age from days to years\n",
    "\n",
    "categorical_cols = ['Status', 'Drug', 'Sex', 'Ascites', 'Hepatomegaly', 'Spiders', 'Edema']\n",
    "numerical_cols = data.columns.difference(categorical_cols + ['Stage']).tolist()\n",
    "\n",
    "# One-hot encoding\n",
    "one_hot_encoded = [pd.get_dummies(data[col], prefix=col) for col in categorical_cols]\n",
    "X_categorical = pd.concat(one_hot_encoded, axis=1)\n",
    "\n",
    "# Scaling\n",
    "scaler = StandardScaler()\n",
    "X_numerical = pd.DataFrame(scaler.fit_transform(data[numerical_cols]), columns=numerical_cols)\n",
    "\n",
    "# Combine processed categorical and numerical data\n",
    "X_processed = pd.concat([X_numerical, X_categorical], axis=1)"
   ]
  },
  {
   "cell_type": "code",
   "execution_count": null,
   "metadata": {},
   "outputs": [],
   "source": [
    "X = X_processed\n",
    "y = data['Stage']\n",
    "\n",
    "X_train, X_test, y_train, y_test = train_test_split(X, y, test_size=0.2, random_state=42)"
   ]
  },
  {
   "cell_type": "code",
   "execution_count": null,
   "metadata": {},
   "outputs": [],
   "source": [
    "models = {\n",
    "    'NeuralNetwork': NeuralNetwork(input_size=X_train.shape[1], hidden_size=50, output_size=1),\n",
    "    'DecisionTree': DecisionTree(max_depth=5),\n",
    "    'LogisticRegression': LogisticRegression(learning_rate=0.01, epochs=1000)\n",
    "}"
   ]
  },
  {
   "cell_type": "code",
   "execution_count": null,
   "metadata": {},
   "outputs": [],
   "source": [
    "def manual_grid_search(model, param_grid, X_train, y_train, X_test, y_test):\n",
    "    best_score = -np.inf\n",
    "    best_params = None\n",
    "    best_model = None\n",
    "\n",
    "    # Iterate over each parameter combination\n",
    "    keys, values = zip(*param_grid.items())\n",
    "    for v in itertools.product(*values):\n",
    "        params = dict(zip(keys, v))\n",
    "        print(f\"Testing parameters: {params}\")\n",
    "        model.set_params(**params)\n",
    "        model.fit(X_train, y_train)\n",
    "        predictions = model.predict(X_test)\n",
    "        score = accuracy_score(y_test, predictions)\n",
    "\n",
    "        print(f\"Accuracy: {score}\")\n",
    "\n",
    "        if score > best_score:\n",
    "            best_score = score\n",
    "            best_params = params\n",
    "            best_model = model\n",
    "\n",
    "    print(f\"Best parameters: {best_params}\")\n",
    "    print(f\"Best accuracy: {best_score}\")\n",
    "    return best_model"
   ]
  },
  {
   "cell_type": "code",
   "execution_count": null,
   "metadata": {},
   "outputs": [],
   "source": [
    "best_estimators = {}\n",
    "for model_name, model in models.items():\n",
    "    print(f\"\\nStarting grid search for {model_name}\")\n",
    "    best_model = manual_grid_search(model, param_grids[model_name], X_train, y_train, X_test, y_test)\n",
    "    best_estimators[model_name] = best_model\n",
    "    y_pred = best_model.predict(X_test)\n",
    "    print(f\"Classification report for {model_name}:\\n\", classification_report(y_test, y_pred))\n",
    "    print(f\"Confusion matrix for {model_name}:\\n\", confusion_matrix(y_test, y_pred))\n",
    "    print(\"=\"*60)"
   ]
  }
 ],
 "metadata": {
  "kernelspec": {
   "display_name": "Python 3",
   "language": "python",
   "name": "python3"
  },
  "language_info": {
   "codemirror_mode": {
    "name": "ipython",
    "version": 3
   },
   "file_extension": ".py",
   "mimetype": "text/x-python",
   "name": "python",
   "nbconvert_exporter": "python",
   "pygments_lexer": "ipython3",
   "version": "3.10.2"
  }
 },
 "nbformat": 4,
 "nbformat_minor": 2
}
