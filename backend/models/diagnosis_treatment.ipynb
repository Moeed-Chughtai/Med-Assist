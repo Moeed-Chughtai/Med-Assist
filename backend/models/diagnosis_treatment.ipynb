{
 "cells": [
  {
   "cell_type": "code",
   "execution_count": 17,
   "metadata": {},
   "outputs": [],
   "source": [
    "import pandas as pd\n",
    "from sklearn.preprocessing import LabelEncoder, StandardScaler\n",
    "from sklearn.decomposition import TruncatedSVD\n",
    "from sklearn.pipeline import Pipeline\n",
    "from sklearn.model_selection import train_test_split, GridSearchCV\n",
    "from sklearn.metrics import accuracy_score\n",
    "import numpy as np\n",
    "import tensorflow as tf\n",
    "from tensorflow.keras.models import Sequential\n",
    "from tensorflow.keras.layers import Dense, Dropout, BatchNormalization\n",
    "from scikeras.wrappers import KerasClassifier"
   ]
  },
  {
   "cell_type": "code",
   "execution_count": 18,
   "metadata": {},
   "outputs": [],
   "source": [
    "file_path = '../datasets/diagnosis_treatment.csv'\n",
    "data = pd.read_csv(file_path)"
   ]
  },
  {
   "cell_type": "code",
   "execution_count": 19,
   "metadata": {},
   "outputs": [],
   "source": [
    "# Encode categorical variables\n",
    "label_encoders = {\n",
    "    'Gender': LabelEncoder(),\n",
    "    'Diagnosis': LabelEncoder(),\n",
    "    'Treatment': LabelEncoder()\n",
    "}\n",
    "\n",
    "data['Gender'] = label_encoders['Gender'].fit_transform(data['Gender'])\n",
    "data['Diagnosis'] = label_encoders['Diagnosis'].fit_transform(data['Diagnosis'])\n",
    "data['Treatment'] = label_encoders['Treatment'].fit_transform(data['Treatment'])"
   ]
  },
  {
   "cell_type": "code",
   "execution_count": 20,
   "metadata": {},
   "outputs": [],
   "source": [
    "# Feature Engineering\n",
    "data['Age_Bin'] = pd.cut(data['Age'], bins=[0, 18, 35, 50, 65, 100], labels=[0, 1, 2, 3, 4])\n",
    "\n",
    "# Advanced Collaborative Filtering using SVD\n",
    "interaction_matrix = data.pivot_table(index='PatientID', columns='Treatment', aggfunc='size', fill_value=0)\n",
    "\n",
    "# SVD for dimensionality reduction\n",
    "n_components = 20\n",
    "svd = TruncatedSVD(n_components=n_components, random_state=42)\n",
    "patient_features = svd.fit_transform(interaction_matrix)\n",
    "treatment_features = svd.components_"
   ]
  },
  {
   "cell_type": "code",
   "execution_count": 21,
   "metadata": {},
   "outputs": [],
   "source": [
    "# Create patient feature matrix\n",
    "patient_feature_df = pd.DataFrame(patient_features, index=interaction_matrix.index)\n",
    "\n",
    "# Merge patient features with original data\n",
    "enhanced_data = pd.merge(data, patient_feature_df, left_on='PatientID', right_index=True)\n",
    "X = enhanced_data.drop(['Treatment', 'PatientID', 'Notes'], axis=1)\n",
    "y = enhanced_data['Treatment']\n",
    "\n",
    "# Convert all column names to strings to avoid mixed types\n",
    "X.columns = X.columns.astype(str)\n",
    "\n",
    "# Normalize the features\n",
    "scaler = StandardScaler()\n",
    "X_scaled = scaler.fit_transform(X)\n",
    "\n",
    "# Train-test split\n",
    "X_train, X_test, y_train, y_test = train_test_split(X_scaled, y, test_size=0.2, random_state=42)"
   ]
  },
  {
   "cell_type": "code",
   "execution_count": 22,
   "metadata": {},
   "outputs": [],
   "source": [
    "# Define a function to create the neural network model\n",
    "def create_model(optimizer='adam'):\n",
    "    model = Sequential()\n",
    "    model.add(Dense(128, input_dim=X_train.shape[1], kernel_initializer='he_uniform', activation='relu'))\n",
    "    model.add(BatchNormalization())\n",
    "    model.add(Dropout(0.3))\n",
    "    model.add(Dense(64, activation='relu'))\n",
    "    model.add(BatchNormalization())\n",
    "    model.add(Dropout(0.3))\n",
    "    model.add(Dense(len(label_encoders['Treatment'].classes_), activation='softmax'))\n",
    "    model.compile(optimizer=optimizer, loss='sparse_categorical_crossentropy', metrics=['accuracy'])\n",
    "    return model\n",
    "\n",
    "# Wrap the model using KerasClassifier\n",
    "model = KerasClassifier(model=create_model, verbose=0)"
   ]
  },
  {
   "cell_type": "code",
   "execution_count": 23,
   "metadata": {},
   "outputs": [
    {
     "name": "stderr",
     "output_type": "stream",
     "text": [
      "c:\\Users\\moeed\\AppData\\Local\\Programs\\Python\\Python310\\lib\\site-packages\\keras\\src\\layers\\core\\dense.py:87: UserWarning: Do not pass an `input_shape`/`input_dim` argument to a layer. When using Sequential models, prefer using an `Input(shape)` object as the first layer in the model instead.\n",
      "  super().__init__(activity_regularizer=activity_regularizer, **kwargs)\n"
     ]
    }
   ],
   "source": [
    "# Hyperparameter tuning using GridSearchCV\n",
    "param_grid = {\n",
    "    'batch_size': [32],\n",
    "    'epochs': [50],\n",
    "    'optimizer': ['adam', 'rmsprop']\n",
    "}\n",
    "\n",
    "grid = GridSearchCV(estimator=model, param_grid=param_grid, n_jobs=-1, cv=3)\n",
    "grid_result = grid.fit(X_train, y_train)"
   ]
  },
  {
   "cell_type": "code",
   "execution_count": 25,
   "metadata": {},
   "outputs": [
    {
     "name": "stdout",
     "output_type": "stream",
     "text": [
      "Best model accuracy: 1.0\n"
     ]
    }
   ],
   "source": [
    "best_model = grid_result.best_estimator_\n",
    "y_pred = best_model.predict(X_test)\n",
    "accuracy = accuracy_score(y_test, y_pred)\n",
    "print(f\"Best model accuracy: {accuracy}\")"
   ]
  },
  {
   "cell_type": "code",
   "execution_count": 29,
   "metadata": {},
   "outputs": [
    {
     "ename": "ValueError",
     "evalue": "X has shape (4,), but this KerasClassifier is expecting X of shape (24,)",
     "output_type": "error",
     "traceback": [
      "\u001b[1;31m---------------------------------------------------------------------------\u001b[0m",
      "\u001b[1;31mValueError\u001b[0m                                Traceback (most recent call last)",
      "Cell \u001b[1;32mIn[29], line 3\u001b[0m\n\u001b[0;32m      1\u001b[0m new_patient \u001b[38;5;241m=\u001b[39m pd\u001b[38;5;241m.\u001b[39mDataFrame([[\u001b[38;5;241m25\u001b[39m, \u001b[38;5;241m0\u001b[39m, label_encoders[\u001b[38;5;124m'\u001b[39m\u001b[38;5;124mDiagnosis\u001b[39m\u001b[38;5;124m'\u001b[39m]\u001b[38;5;241m.\u001b[39mtransform([\u001b[38;5;124m'\u001b[39m\u001b[38;5;124mAcne\u001b[39m\u001b[38;5;124m'\u001b[39m])[\u001b[38;5;241m0\u001b[39m], \u001b[38;5;241m0\u001b[39m]], \n\u001b[0;32m      2\u001b[0m                            columns\u001b[38;5;241m=\u001b[39m[\u001b[38;5;124m'\u001b[39m\u001b[38;5;124mAge\u001b[39m\u001b[38;5;124m'\u001b[39m, \u001b[38;5;124m'\u001b[39m\u001b[38;5;124mGender\u001b[39m\u001b[38;5;124m'\u001b[39m, \u001b[38;5;124m'\u001b[39m\u001b[38;5;124mDiagnosis\u001b[39m\u001b[38;5;124m'\u001b[39m, \u001b[38;5;124m'\u001b[39m\u001b[38;5;124mAge_Bin\u001b[39m\u001b[38;5;124m'\u001b[39m])\n\u001b[1;32m----> 3\u001b[0m predicted_treatment \u001b[38;5;241m=\u001b[39m \u001b[43mbest_model\u001b[49m\u001b[38;5;241;43m.\u001b[39;49m\u001b[43mpredict\u001b[49m\u001b[43m(\u001b[49m\u001b[43mnew_patient\u001b[49m\u001b[43m)\u001b[49m\n\u001b[0;32m      4\u001b[0m predicted_treatment_label \u001b[38;5;241m=\u001b[39m label_encoders[\u001b[38;5;124m'\u001b[39m\u001b[38;5;124mTreatment\u001b[39m\u001b[38;5;124m'\u001b[39m]\u001b[38;5;241m.\u001b[39minverse_transform(predicted_treatment)\n\u001b[0;32m      5\u001b[0m \u001b[38;5;28mprint\u001b[39m(\u001b[38;5;124mf\u001b[39m\u001b[38;5;124m\"\u001b[39m\u001b[38;5;124mRecommended treatment: \u001b[39m\u001b[38;5;132;01m{\u001b[39;00mpredicted_treatment_label[\u001b[38;5;241m0\u001b[39m]\u001b[38;5;132;01m}\u001b[39;00m\u001b[38;5;124m\"\u001b[39m)\n",
      "File \u001b[1;32mc:\\Users\\moeed\\AppData\\Local\\Programs\\Python\\Python310\\lib\\site-packages\\scikeras\\wrappers.py:1058\u001b[0m, in \u001b[0;36mBaseWrapper.predict\u001b[1;34m(self, X, **kwargs)\u001b[0m\n\u001b[0;32m   1034\u001b[0m \u001b[38;5;250m\u001b[39m\u001b[38;5;124;03m\"\"\"Returns predictions for the given test data.\u001b[39;00m\n\u001b[0;32m   1035\u001b[0m \n\u001b[0;32m   1036\u001b[0m \u001b[38;5;124;03mParameters\u001b[39;00m\n\u001b[1;32m   (...)\u001b[0m\n\u001b[0;32m   1055\u001b[0m \u001b[38;5;124;03m    Predictions, of shape shape (n_samples,) or (n_samples, n_outputs).\u001b[39;00m\n\u001b[0;32m   1056\u001b[0m \u001b[38;5;124;03m\"\"\"\u001b[39;00m\n\u001b[0;32m   1057\u001b[0m \u001b[38;5;66;03m# predict with Keras model\u001b[39;00m\n\u001b[1;32m-> 1058\u001b[0m y_pred \u001b[38;5;241m=\u001b[39m \u001b[38;5;28mself\u001b[39m\u001b[38;5;241m.\u001b[39m_predict_raw(X\u001b[38;5;241m=\u001b[39mX, \u001b[38;5;241m*\u001b[39m\u001b[38;5;241m*\u001b[39mkwargs)\n\u001b[0;32m   1060\u001b[0m \u001b[38;5;66;03m# post process y\u001b[39;00m\n\u001b[0;32m   1061\u001b[0m y_pred \u001b[38;5;241m=\u001b[39m \u001b[38;5;28mself\u001b[39m\u001b[38;5;241m.\u001b[39mtarget_encoder_\u001b[38;5;241m.\u001b[39minverse_transform(y_pred)\n",
      "File \u001b[1;32mc:\\Users\\moeed\\AppData\\Local\\Programs\\Python\\Python310\\lib\\site-packages\\scikeras\\wrappers.py:1004\u001b[0m, in \u001b[0;36mBaseWrapper._predict_raw\u001b[1;34m(self, X, **kwargs)\u001b[0m\n\u001b[0;32m   1000\u001b[0m     \u001b[38;5;28;01mraise\u001b[39;00m NotFittedError(\n\u001b[0;32m   1001\u001b[0m         \u001b[38;5;124m\"\u001b[39m\u001b[38;5;124mEstimator needs to be fit before `predict` \u001b[39m\u001b[38;5;124m\"\u001b[39m \u001b[38;5;124m\"\u001b[39m\u001b[38;5;124mcan be called\u001b[39m\u001b[38;5;124m\"\u001b[39m\n\u001b[0;32m   1002\u001b[0m     )\n\u001b[0;32m   1003\u001b[0m \u001b[38;5;66;03m# basic input checks\u001b[39;00m\n\u001b[1;32m-> 1004\u001b[0m X, _ \u001b[38;5;241m=\u001b[39m \u001b[38;5;28;43mself\u001b[39;49m\u001b[38;5;241;43m.\u001b[39;49m\u001b[43m_validate_data\u001b[49m\u001b[43m(\u001b[49m\u001b[43mX\u001b[49m\u001b[38;5;241;43m=\u001b[39;49m\u001b[43mX\u001b[49m\u001b[43m,\u001b[49m\u001b[43m \u001b[49m\u001b[43my\u001b[49m\u001b[38;5;241;43m=\u001b[39;49m\u001b[38;5;28;43;01mNone\u001b[39;49;00m\u001b[43m)\u001b[49m\n\u001b[0;32m   1006\u001b[0m \u001b[38;5;66;03m# pre process X\u001b[39;00m\n\u001b[0;32m   1007\u001b[0m X \u001b[38;5;241m=\u001b[39m \u001b[38;5;28mself\u001b[39m\u001b[38;5;241m.\u001b[39mfeature_encoder_\u001b[38;5;241m.\u001b[39mtransform(X)\n",
      "File \u001b[1;32mc:\\Users\\moeed\\AppData\\Local\\Programs\\Python\\Python310\\lib\\site-packages\\scikeras\\wrappers.py:692\u001b[0m, in \u001b[0;36mBaseWrapper._validate_data\u001b[1;34m(self, X, y, reset, y_numeric)\u001b[0m\n\u001b[0;32m    687\u001b[0m             \u001b[38;5;28;01mraise\u001b[39;00m \u001b[38;5;167;01mValueError\u001b[39;00m(\n\u001b[0;32m    688\u001b[0m                 \u001b[38;5;124mf\u001b[39m\u001b[38;5;124m\"\u001b[39m\u001b[38;5;124mX has \u001b[39m\u001b[38;5;132;01m{\u001b[39;00m\u001b[38;5;28mlen\u001b[39m(X_shape_)\u001b[38;5;132;01m}\u001b[39;00m\u001b[38;5;124m dimensions, but this \u001b[39m\u001b[38;5;132;01m{\u001b[39;00m\u001b[38;5;28mself\u001b[39m\u001b[38;5;241m.\u001b[39m\u001b[38;5;18m__name__\u001b[39m\u001b[38;5;132;01m}\u001b[39;00m\u001b[38;5;124m\"\u001b[39m\n\u001b[0;32m    689\u001b[0m                 \u001b[38;5;124mf\u001b[39m\u001b[38;5;124m\"\u001b[39m\u001b[38;5;124m is expecting \u001b[39m\u001b[38;5;132;01m{\u001b[39;00m\u001b[38;5;28mlen\u001b[39m(\u001b[38;5;28mself\u001b[39m\u001b[38;5;241m.\u001b[39mX_shape_)\u001b[38;5;132;01m}\u001b[39;00m\u001b[38;5;124m dimensions in X.\u001b[39m\u001b[38;5;124m\"\u001b[39m\n\u001b[0;32m    690\u001b[0m             )\n\u001b[0;32m    691\u001b[0m         \u001b[38;5;28;01mif\u001b[39;00m X_shape_[\u001b[38;5;241m1\u001b[39m:] \u001b[38;5;241m!=\u001b[39m \u001b[38;5;28mself\u001b[39m\u001b[38;5;241m.\u001b[39mX_shape_[\u001b[38;5;241m1\u001b[39m:]:\n\u001b[1;32m--> 692\u001b[0m             \u001b[38;5;28;01mraise\u001b[39;00m \u001b[38;5;167;01mValueError\u001b[39;00m(\n\u001b[0;32m    693\u001b[0m                 \u001b[38;5;124mf\u001b[39m\u001b[38;5;124m\"\u001b[39m\u001b[38;5;124mX has shape \u001b[39m\u001b[38;5;132;01m{\u001b[39;00mX_shape_[\u001b[38;5;241m1\u001b[39m:]\u001b[38;5;132;01m}\u001b[39;00m\u001b[38;5;124m, but this \u001b[39m\u001b[38;5;132;01m{\u001b[39;00m\u001b[38;5;28mself\u001b[39m\u001b[38;5;241m.\u001b[39m\u001b[38;5;18m__name__\u001b[39m\u001b[38;5;132;01m}\u001b[39;00m\u001b[38;5;124m\"\u001b[39m\n\u001b[0;32m    694\u001b[0m                 \u001b[38;5;124mf\u001b[39m\u001b[38;5;124m\"\u001b[39m\u001b[38;5;124m is expecting X of shape \u001b[39m\u001b[38;5;132;01m{\u001b[39;00m\u001b[38;5;28mself\u001b[39m\u001b[38;5;241m.\u001b[39mX_shape_[\u001b[38;5;241m1\u001b[39m:]\u001b[38;5;132;01m}\u001b[39;00m\u001b[38;5;124m\"\u001b[39m\n\u001b[0;32m    695\u001b[0m             )\n\u001b[0;32m    696\u001b[0m \u001b[38;5;28;01mreturn\u001b[39;00m X, y\n",
      "\u001b[1;31mValueError\u001b[0m: X has shape (4,), but this KerasClassifier is expecting X of shape (24,)"
     ]
    }
   ],
   "source": [
    "new_patient = pd.DataFrame([[25, 0, label_encoders['Diagnosis'].transform(['Acne'])[0], 0]], \n",
    "                           columns=['Age', 'Gender', 'Diagnosis', 'Age_Bin'])\n",
    "new_patient_scaled = scaler.transform(new_patient)\n",
    "predicted_treatment = best_model.predict(new_patient)\n",
    "predicted_treatment_label = label_encoders['Treatment'].inverse_transform(predicted_treatment)\n",
    "print(f\"Recommended treatment: {predicted_treatment_label[0]}\")"
   ]
  }
 ],
 "metadata": {
  "kernelspec": {
   "display_name": "Python 3",
   "language": "python",
   "name": "python3"
  },
  "language_info": {
   "codemirror_mode": {
    "name": "ipython",
    "version": 3
   },
   "file_extension": ".py",
   "mimetype": "text/x-python",
   "name": "python",
   "nbconvert_exporter": "python",
   "pygments_lexer": "ipython3",
   "version": "3.10.2"
  }
 },
 "nbformat": 4,
 "nbformat_minor": 2
}
