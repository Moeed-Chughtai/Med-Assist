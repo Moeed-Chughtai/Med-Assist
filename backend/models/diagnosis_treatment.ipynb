{
 "cells": [
  {
   "cell_type": "code",
   "execution_count": 9,
   "metadata": {},
   "outputs": [],
   "source": [
    "import pandas as pd\n",
    "from sklearn.preprocessing import LabelEncoder, StandardScaler\n",
    "from sklearn.decomposition import TruncatedSVD\n",
    "from sklearn.pipeline import Pipeline\n",
    "from sklearn.model_selection import train_test_split, GridSearchCV\n",
    "from sklearn.metrics import accuracy_score\n",
    "import numpy as np\n",
    "import tensorflow as tf\n",
    "from tensorflow.keras.models import Sequential\n",
    "from tensorflow.keras.layers import Dense, Dropout, BatchNormalization\n",
    "from scikeras.wrappers import KerasClassifier\n",
    "import joblib"
   ]
  },
  {
   "cell_type": "code",
   "execution_count": 10,
   "metadata": {},
   "outputs": [],
   "source": [
    "file_path = '../datasets/diagnosis_treatment.csv'\n",
    "data = pd.read_csv(file_path)"
   ]
  },
  {
   "cell_type": "code",
   "execution_count": 11,
   "metadata": {},
   "outputs": [],
   "source": [
    "# Encode categorical variables\n",
    "label_encoders = {\n",
    "    'Gender': LabelEncoder(),\n",
    "    'Diagnosis': LabelEncoder(),\n",
    "    'Treatment': LabelEncoder()\n",
    "}\n",
    "\n",
    "data['Gender'] = label_encoders['Gender'].fit_transform(data['Gender'])\n",
    "data['Diagnosis'] = label_encoders['Diagnosis'].fit_transform(data['Diagnosis'])\n",
    "data['Treatment'] = label_encoders['Treatment'].fit_transform(data['Treatment'])"
   ]
  },
  {
   "cell_type": "code",
   "execution_count": 12,
   "metadata": {},
   "outputs": [],
   "source": [
    "# Feature Engineering\n",
    "data['Age_Bin'] = pd.cut(data['Age'], bins=[0, 18, 35, 50, 65, 100], labels=[0, 1, 2, 3, 4])\n",
    "\n",
    "# Advanced Collaborative Filtering using SVD\n",
    "interaction_matrix = data.pivot_table(index='PatientID', columns='Treatment', aggfunc='size', fill_value=0)\n",
    "\n",
    "# SVD for dimensionality reduction\n",
    "n_components = 20\n",
    "svd = TruncatedSVD(n_components=n_components, random_state=42)\n",
    "patient_features = svd.fit_transform(interaction_matrix)\n",
    "treatment_features = svd.components_"
   ]
  },
  {
   "cell_type": "code",
   "execution_count": 13,
   "metadata": {},
   "outputs": [],
   "source": [
    "# Create patient feature matrix\n",
    "patient_feature_df = pd.DataFrame(patient_features, index=interaction_matrix.index)\n",
    "\n",
    "# Merge patient features with original data\n",
    "enhanced_data = pd.merge(data, patient_feature_df, left_on='PatientID', right_index=True)\n",
    "X = enhanced_data.drop(['Treatment', 'PatientID', 'Notes'], axis=1)\n",
    "y = enhanced_data['Treatment']\n",
    "\n",
    "# Convert all column names to strings to avoid mixed types\n",
    "X.columns = X.columns.astype(str)\n",
    "\n",
    "# Normalize the features\n",
    "scaler = StandardScaler()\n",
    "X_scaled = scaler.fit_transform(X)\n",
    "\n",
    "# Train-test split\n",
    "X_train, X_test, y_train, y_test = train_test_split(X_scaled, y, test_size=0.2, random_state=42)"
   ]
  },
  {
   "cell_type": "code",
   "execution_count": 14,
   "metadata": {},
   "outputs": [],
   "source": [
    "# Define a function to create the neural network model\n",
    "def create_model(optimizer='adam'):\n",
    "    model = Sequential()\n",
    "    model.add(Dense(128, input_dim=X_train.shape[1], kernel_initializer='he_uniform', activation='relu'))\n",
    "    model.add(BatchNormalization())\n",
    "    model.add(Dropout(0.3))\n",
    "    model.add(Dense(64, activation='relu'))\n",
    "    model.add(BatchNormalization())\n",
    "    model.add(Dropout(0.3))\n",
    "    model.add(Dense(len(label_encoders['Treatment'].classes_), activation='softmax'))\n",
    "    model.compile(optimizer=optimizer, loss='sparse_categorical_crossentropy', metrics=['accuracy'])\n",
    "    return model\n",
    "\n",
    "# Wrap the model using KerasClassifier\n",
    "model = KerasClassifier(model=create_model, verbose=0)"
   ]
  },
  {
   "cell_type": "code",
   "execution_count": 15,
   "metadata": {},
   "outputs": [
    {
     "name": "stderr",
     "output_type": "stream",
     "text": [
      "c:\\Users\\moeed\\AppData\\Local\\Programs\\Python\\Python310\\lib\\site-packages\\keras\\src\\layers\\core\\dense.py:87: UserWarning: Do not pass an `input_shape`/`input_dim` argument to a layer. When using Sequential models, prefer using an `Input(shape)` object as the first layer in the model instead.\n",
      "  super().__init__(activity_regularizer=activity_regularizer, **kwargs)\n"
     ]
    }
   ],
   "source": [
    "# Hyperparameter tuning using GridSearchCV\n",
    "param_grid = {\n",
    "    'batch_size': [32],\n",
    "    'epochs': [50],\n",
    "    'optimizer': ['adam', 'rmsprop']\n",
    "}\n",
    "\n",
    "grid = GridSearchCV(estimator=model, param_grid=param_grid, n_jobs=-1, cv=3)\n",
    "grid_result = grid.fit(X_train, y_train)"
   ]
  },
  {
   "cell_type": "code",
   "execution_count": 17,
   "metadata": {},
   "outputs": [
    {
     "name": "stdout",
     "output_type": "stream",
     "text": [
      "Best model accuracy: 1.0\n"
     ]
    },
    {
     "data": {
      "text/plain": [
       "['../trained_models/label_encoders.pkl']"
      ]
     },
     "execution_count": 17,
     "metadata": {},
     "output_type": "execute_result"
    }
   ],
   "source": [
    "best_model = grid_result.best_estimator_\n",
    "y_pred = best_model.predict(X_test)\n",
    "accuracy = accuracy_score(y_test, y_pred)\n",
    "print(f\"Best model accuracy: {accuracy}\")\n",
    "\n",
    "joblib.dump(best_model, '../trained_models/treatment_best_model.pkl')\n",
    "joblib.dump(scaler, '../trained_models/scaler.pkl')\n",
    "joblib.dump(svd, '../trained_models/svd.pkl')\n",
    "joblib.dump(label_encoders, '../trained_models/label_encoders.pkl')"
   ]
  }
 ],
 "metadata": {
  "kernelspec": {
   "display_name": "Python 3",
   "language": "python",
   "name": "python3"
  },
  "language_info": {
   "codemirror_mode": {
    "name": "ipython",
    "version": 3
   },
   "file_extension": ".py",
   "mimetype": "text/x-python",
   "name": "python",
   "nbconvert_exporter": "python",
   "pygments_lexer": "ipython3",
   "version": "3.10.2"
  }
 },
 "nbformat": 4,
 "nbformat_minor": 2
}
